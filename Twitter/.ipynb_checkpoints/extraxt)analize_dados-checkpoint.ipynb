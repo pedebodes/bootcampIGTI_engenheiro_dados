{
 "cells": [
  {
   "cell_type": "markdown",
   "metadata": {},
   "source": [
    "# Extrai Tweets"
   ]
  },
  {
   "cell_type": "code",
   "execution_count": 1,
   "metadata": {
    "scrolled": true
   },
   "outputs": [
    {
     "name": "stdout",
     "output_type": "stream",
     "text": [
      "Requirement already satisfied: tweepy in /home/alunoigti/anaconda3/lib/python3.8/site-packages (3.10.0)\n",
      "Requirement already satisfied: six>=1.10.0 in /home/alunoigti/anaconda3/lib/python3.8/site-packages (from tweepy) (1.15.0)\n",
      "Requirement already satisfied: requests[socks]>=2.11.1 in /home/alunoigti/anaconda3/lib/python3.8/site-packages (from tweepy) (2.24.0)\n",
      "Requirement already satisfied: requests-oauthlib>=0.7.0 in /home/alunoigti/anaconda3/lib/python3.8/site-packages (from tweepy) (1.3.0)\n",
      "Requirement already satisfied: certifi>=2017.4.17 in /home/alunoigti/anaconda3/lib/python3.8/site-packages (from requests[socks]>=2.11.1->tweepy) (2020.6.20)\n",
      "Requirement already satisfied: chardet<4,>=3.0.2 in /home/alunoigti/anaconda3/lib/python3.8/site-packages (from requests[socks]>=2.11.1->tweepy) (3.0.4)\n",
      "Requirement already satisfied: urllib3!=1.25.0,!=1.25.1,<1.26,>=1.21.1 in /home/alunoigti/anaconda3/lib/python3.8/site-packages (from requests[socks]>=2.11.1->tweepy) (1.25.11)\n",
      "Requirement already satisfied: idna<3,>=2.5 in /home/alunoigti/anaconda3/lib/python3.8/site-packages (from requests[socks]>=2.11.1->tweepy) (2.10)\n",
      "Requirement already satisfied: PySocks!=1.5.7,>=1.5.6; extra == \"socks\" in /home/alunoigti/anaconda3/lib/python3.8/site-packages (from requests[socks]>=2.11.1->tweepy) (1.7.1)\n",
      "Requirement already satisfied: oauthlib>=3.0.0 in /home/alunoigti/anaconda3/lib/python3.8/site-packages (from requests-oauthlib>=0.7.0->tweepy) (3.1.0)\n",
      "Requirement already satisfied: datetime in /home/alunoigti/anaconda3/lib/python3.8/site-packages (4.3)\n",
      "Requirement already satisfied: pytz in /home/alunoigti/anaconda3/lib/python3.8/site-packages (from datetime) (2020.1)\n",
      "Requirement already satisfied: zope.interface in /home/alunoigti/anaconda3/lib/python3.8/site-packages (from datetime) (5.1.2)\n",
      "Requirement already satisfied: setuptools in /home/alunoigti/anaconda3/lib/python3.8/site-packages (from zope.interface->datetime) (50.3.1.post20201107)\n"
     ]
    }
   ],
   "source": [
    "# Instalar pacotes\n",
    "!pip install tweepy\n",
    "!pip install datetime"
   ]
  },
  {
   "cell_type": "markdown",
   "metadata": {},
   "source": [
    "## Play"
   ]
  },
  {
   "cell_type": "code",
   "execution_count": 4,
   "metadata": {
    "scrolled": true
   },
   "outputs": [
    {
     "name": "stdout",
     "output_type": "stream",
     "text": [
      "Traceback (most recent call last):\n",
      "  File \"/home/alunoigti/anaconda3/lib/python3.8/http/client.py\", line 555, in _get_chunk_left\n",
      "    chunk_left = self._read_next_chunk_size()\n",
      "  File \"/home/alunoigti/anaconda3/lib/python3.8/http/client.py\", line 522, in _read_next_chunk_size\n",
      "    return int(line, 16)\n",
      "ValueError: invalid literal for int() with base 16: b''\n",
      "\n",
      "During handling of the above exception, another exception occurred:\n",
      "\n",
      "Traceback (most recent call last):\n",
      "  File \"/home/alunoigti/anaconda3/lib/python3.8/http/client.py\", line 587, in _readinto_chunked\n",
      "    chunk_left = self._get_chunk_left()\n",
      "  File \"/home/alunoigti/anaconda3/lib/python3.8/http/client.py\", line 557, in _get_chunk_left\n",
      "    raise IncompleteRead(b'')\n",
      "http.client.IncompleteRead: IncompleteRead(0 bytes read)\n",
      "\n",
      "During handling of the above exception, another exception occurred:\n",
      "\n",
      "Traceback (most recent call last):\n",
      "  File \"/home/alunoigti/anaconda3/lib/python3.8/site-packages/urllib3/response.py\", line 436, in _error_catcher\n",
      "    yield\n",
      "  File \"/home/alunoigti/anaconda3/lib/python3.8/site-packages/urllib3/response.py\", line 518, in read\n",
      "    data = self._fp.read(amt) if not fp_closed else b\"\"\n",
      "  File \"/home/alunoigti/anaconda3/lib/python3.8/http/client.py\", line 458, in read\n",
      "    n = self.readinto(b)\n",
      "  File \"/home/alunoigti/anaconda3/lib/python3.8/http/client.py\", line 492, in readinto\n",
      "    return self._readinto_chunked(b)\n",
      "  File \"/home/alunoigti/anaconda3/lib/python3.8/http/client.py\", line 603, in _readinto_chunked\n",
      "    raise IncompleteRead(bytes(b[0:total_bytes]))\n",
      "http.client.IncompleteRead: IncompleteRead(0 bytes read)\n",
      "\n",
      "During handling of the above exception, another exception occurred:\n",
      "\n",
      "Traceback (most recent call last):\n",
      "  File \"get_tweets.py\", line 41, in <module>\n",
      "    stream.filter(track=['Lula','Bolsonaro'])\n",
      "  File \"/home/alunoigti/anaconda3/lib/python3.8/site-packages/tweepy/streaming.py\", line 474, in filter\n",
      "    self._start(is_async)\n",
      "  File \"/home/alunoigti/anaconda3/lib/python3.8/site-packages/tweepy/streaming.py\", line 389, in _start\n",
      "    self._run()\n",
      "  File \"/home/alunoigti/anaconda3/lib/python3.8/site-packages/tweepy/streaming.py\", line 320, in _run\n",
      "    six.reraise(*exc_info)\n",
      "  File \"/home/alunoigti/anaconda3/lib/python3.8/site-packages/six.py\", line 703, in reraise\n",
      "    raise value\n",
      "  File \"/home/alunoigti/anaconda3/lib/python3.8/site-packages/tweepy/streaming.py\", line 289, in _run\n",
      "    self._read_loop(resp)\n",
      "  File \"/home/alunoigti/anaconda3/lib/python3.8/site-packages/tweepy/streaming.py\", line 339, in _read_loop\n",
      "    line = buf.read_line()\n",
      "  File \"/home/alunoigti/anaconda3/lib/python3.8/site-packages/tweepy/streaming.py\", line 200, in read_line\n",
      "    self._buffer += self._stream.read(self._chunk_size)\n",
      "  File \"/home/alunoigti/anaconda3/lib/python3.8/site-packages/urllib3/response.py\", line 540, in read\n",
      "    raise IncompleteRead(self._fp_bytes_read, self.length_remaining)\n",
      "  File \"/home/alunoigti/anaconda3/lib/python3.8/contextlib.py\", line 131, in __exit__\n",
      "    self.gen.throw(type, value, traceback)\n",
      "  File \"/home/alunoigti/anaconda3/lib/python3.8/site-packages/urllib3/response.py\", line 454, in _error_catcher\n",
      "    raise ProtocolError(\"Connection broken: %r\" % e, e)\n",
      "urllib3.exceptions.ProtocolError: ('Connection broken: IncompleteRead(0 bytes read)', IncompleteRead(0 bytes read))\n"
     ]
    }
   ],
   "source": [
    "!python get_tweets.py"
   ]
  },
  {
   "cell_type": "markdown",
   "metadata": {},
   "source": [
    "# Entendendo a estrutura do json"
   ]
  },
  {
   "cell_type": "code",
   "execution_count": 5,
   "metadata": {},
   "outputs": [],
   "source": [
    "import json\n",
    "\n",
    "# o arquivo e ler as linhas\n",
    "with open(\"collected_tweets21-03-09_11-49-13.txt\",'r') as file:\n",
    "    tweets = file.readlines()\n",
    "    \n",
    "    "
   ]
  },
  {
   "cell_type": "code",
   "execution_count": 6,
   "metadata": {
    "scrolled": true
   },
   "outputs": [
    {
     "data": {
      "text/plain": [
       "'\"{\\\\\"created_at\\\\\":\\\\\"Tue Mar 09 14:49:09 +0000 2021\\\\\",\\\\\"id\\\\\":1369299219824185345,\\\\\"id_str\\\\\":\\\\\"1369299219824185345\\\\\",\\\\\"text\\\\\":\\\\\"RT @croketys: eu: n\\\\\\\\u00e3o mas eu n\\\\\\\\u00e3o sou petista\\\\\\\\n\\\\\\\\n*lula inocentado e eleg\\\\\\\\u00edvel pra 2022*\\\\\\\\n\\\\\\\\neu: https:\\\\\\\\/\\\\\\\\/t.co\\\\\\\\/VczS4u5ka8\\\\\",\\\\\"source\\\\\":\\\\\"\\\\\\\\u003ca href=\\\\\\\\\\\\\"http:\\\\\\\\/\\\\\\\\/twitter.com\\\\\\\\/download\\\\\\\\/iphone\\\\\\\\\\\\\" rel=\\\\\\\\\\\\\"nofollow\\\\\\\\\\\\\"\\\\\\\\u003eTwitter for iPhone\\\\\\\\u003c\\\\\\\\/a\\\\\\\\u003e\\\\\",\\\\\"truncated\\\\\":false,\\\\\"in_reply_to_status_id\\\\\":null,\\\\\"in_reply_to_status_id_str\\\\\":null,\\\\\"in_reply_to_user_id\\\\\":null,\\\\\"in_reply_to_user_id_str\\\\\":null,\\\\\"in_reply_to_screen_name\\\\\":null,\\\\\"user\\\\\":{\\\\\"id\\\\\":1402997707,\\\\\"id_str\\\\\":\\\\\"1402997707\\\\\",\\\\\"name\\\\\":\\\\\"boca a boca\\\\\",\\\\\"screen_name\\\\\":\\\\\"beatrizz_custod\\\\\",\\\\\"location\\\\\":null,\\\\\"url\\\\\":\\\\\"https:\\\\\\\\/\\\\\\\\/curiouscat.me\\\\\\\\/Beatrizcstd\\\\\",\\\\\"description\\\\\":\\\\\".\\\\\",\\\\\"translator_type\\\\\":\\\\\"none\\\\\",\\\\\"protected\\\\\":false,\\\\\"verified\\\\\":false,\\\\\"followers_count\\\\\":502,\\\\\"friends_count\\\\\":287,\\\\\"listed_count\\\\\":0,\\\\\"favourites_count\\\\\":66036,\\\\\"statuses_count\\\\\":38570,\\\\\"created_at\\\\\":\\\\\"Sat May 04 17:54:58 +0000 2013\\\\\",\\\\\"utc_offset\\\\\":null,\\\\\"time_zone\\\\\":null,\\\\\"geo_enabled\\\\\":false,\\\\\"lang\\\\\":null,\\\\\"contributors_enabled\\\\\":false,\\\\\"is_translator\\\\\":false,\\\\\"profile_background_color\\\\\":\\\\\"C0DEED\\\\\",\\\\\"profile_background_image_url\\\\\":\\\\\"http:\\\\\\\\/\\\\\\\\/abs.twimg.com\\\\\\\\/images\\\\\\\\/themes\\\\\\\\/theme1\\\\\\\\/bg.png\\\\\",\\\\\"profile_background_image_url_https\\\\\":\\\\\"https:\\\\\\\\/\\\\\\\\/abs.twimg.com\\\\\\\\/images\\\\\\\\/themes\\\\\\\\/theme1\\\\\\\\/bg.png\\\\\",\\\\\"profile_background_tile\\\\\":false,\\\\\"profile_link_color\\\\\":\\\\\"1DA1F2\\\\\",\\\\\"profile_sidebar_border_color\\\\\":\\\\\"C0DEED\\\\\",\\\\\"profile_sidebar_fill_color\\\\\":\\\\\"DDEEF6\\\\\",\\\\\"profile_text_color\\\\\":\\\\\"333333\\\\\",\\\\\"profile_use_background_image\\\\\":true,\\\\\"profile_image_url\\\\\":\\\\\"http:\\\\\\\\/\\\\\\\\/pbs.twimg.com\\\\\\\\/profile_images\\\\\\\\/1369221567910191106\\\\\\\\/EZkhKCbK_normal.jpg\\\\\",\\\\\"profile_image_url_https\\\\\":\\\\\"https:\\\\\\\\/\\\\\\\\/pbs.twimg.com\\\\\\\\/profile_images\\\\\\\\/1369221567910191106\\\\\\\\/EZkhKCbK_normal.jpg\\\\\",\\\\\"profile_banner_url\\\\\":\\\\\"https:\\\\\\\\/\\\\\\\\/pbs.twimg.com\\\\\\\\/profile_banners\\\\\\\\/1402997707\\\\\\\\/1605861358\\\\\",\\\\\"default_profile\\\\\":true,\\\\\"default_profile_image\\\\\":false,\\\\\"following\\\\\":null,\\\\\"follow_request_sent\\\\\":null,\\\\\"notifications\\\\\":null},\\\\\"geo\\\\\":null,\\\\\"coordinates\\\\\":null,\\\\\"place\\\\\":null,\\\\\"contributors\\\\\":null,\\\\\"retweeted_status\\\\\":{\\\\\"created_at\\\\\":\\\\\"Mon Mar 08 19:02:17 +0000 2021\\\\\",\\\\\"id\\\\\":1369000535161008135,\\\\\"id_str\\\\\":\\\\\"1369000535161008135\\\\\",\\\\\"text\\\\\":\\\\\"eu: n\\\\\\\\u00e3o mas eu n\\\\\\\\u00e3o sou petista\\\\\\\\n\\\\\\\\n*lula inocentado e eleg\\\\\\\\u00edvel pra 2022*\\\\\\\\n\\\\\\\\neu: https:\\\\\\\\/\\\\\\\\/t.co\\\\\\\\/VczS4u5ka8\\\\\",\\\\\"display_text_range\\\\\":[0,74],\\\\\"source\\\\\":\\\\\"\\\\\\\\u003ca href=\\\\\\\\\\\\\"https:\\\\\\\\/\\\\\\\\/mobile.twitter.com\\\\\\\\\\\\\" rel=\\\\\\\\\\\\\"nofollow\\\\\\\\\\\\\"\\\\\\\\u003eTwitter Web App\\\\\\\\u003c\\\\\\\\/a\\\\\\\\u003e\\\\\",\\\\\"truncated\\\\\":false,\\\\\"in_reply_to_status_id\\\\\":null,\\\\\"in_reply_to_status_id_str\\\\\":null,\\\\\"in_reply_to_user_id\\\\\":null,\\\\\"in_reply_to_user_id_str\\\\\":null,\\\\\"in_reply_to_screen_name\\\\\":null,\\\\\"user\\\\\":{\\\\\"id\\\\\":1015748053494624256,\\\\\"id_str\\\\\":\\\\\"1015748053494624256\\\\\",\\\\\"name\\\\\":\\\\\"peixe bola eu\\\\\",\\\\\"screen_name\\\\\":\\\\\"croketys\\\\\",\\\\\"location\\\\\":\\\\\"Aracaju, Brasil\\\\\",\\\\\"url\\\\\":\\\\\"https:\\\\\\\\/\\\\\\\\/instagram.com\\\\\\\\/ketydias\\\\\",\\\\\"description\\\\\":\\\\\"entusiasta de caf\\\\\\\\u00e9 da manh\\\\\\\\u00e3.\\\\\",\\\\\"translator_type\\\\\":\\\\\"none\\\\\",\\\\\"protected\\\\\":false,\\\\\"verified\\\\\":false,\\\\\"followers_count\\\\\":595,\\\\\"friends_count\\\\\":576,\\\\\"listed_count\\\\\":0,\\\\\"favourites_count\\\\\":28182,\\\\\"statuses_count\\\\\":11702,\\\\\"created_at\\\\\":\\\\\"Sun Jul 08 00:03:02 +0000 2018\\\\\",\\\\\"utc_offset\\\\\":null,\\\\\"time_zone\\\\\":null,\\\\\"geo_enabled\\\\\":true,\\\\\"lang\\\\\":null,\\\\\"contributors_enabled\\\\\":false,\\\\\"is_translator\\\\\":false,\\\\\"profile_background_color\\\\\":\\\\\"000000\\\\\",\\\\\"profile_background_image_url\\\\\":\\\\\"http:\\\\\\\\/\\\\\\\\/abs.twimg.com\\\\\\\\/images\\\\\\\\/themes\\\\\\\\/theme1\\\\\\\\/bg.png\\\\\",\\\\\"profile_background_image_url_https\\\\\":\\\\\"https:\\\\\\\\/\\\\\\\\/abs.twimg.com\\\\\\\\/images\\\\\\\\/themes\\\\\\\\/theme1\\\\\\\\/bg.png\\\\\",\\\\\"profile_background_tile\\\\\":false,\\\\\"profile_link_color\\\\\":\\\\\"F58EA8\\\\\",\\\\\"profile_sidebar_border_color\\\\\":\\\\\"000000\\\\\",\\\\\"profile_sidebar_fill_color\\\\\":\\\\\"000000\\\\\",\\\\\"profile_text_color\\\\\":\\\\\"000000\\\\\",\\\\\"profile_use_background_image\\\\\":false,\\\\\"profile_image_url\\\\\":\\\\\"http:\\\\\\\\/\\\\\\\\/pbs.twimg.com\\\\\\\\/profile_images\\\\\\\\/1337964196634505217\\\\\\\\/xNWO8rGO_normal.jpg\\\\\",\\\\\"profile_image_url_https\\\\\":\\\\\"https:\\\\\\\\/\\\\\\\\/pbs.twimg.com\\\\\\\\/profile_images\\\\\\\\/1337964196634505217\\\\\\\\/xNWO8rGO_normal.jpg\\\\\",\\\\\"profile_banner_url\\\\\":\\\\\"https:\\\\\\\\/\\\\\\\\/pbs.twimg.com\\\\\\\\/profile_banners\\\\\\\\/1015748053494624256\\\\\\\\/1570538412\\\\\",\\\\\"default_profile\\\\\":false,\\\\\"default_profile_image\\\\\":false,\\\\\"following\\\\\":null,\\\\\"follow_request_sent\\\\\":null,\\\\\"notifications\\\\\":null},\\\\\"geo\\\\\":null,\\\\\"coordinates\\\\\":null,\\\\\"place\\\\\":null,\\\\\"contributors\\\\\":null,\\\\\"is_quote_status\\\\\":false,\\\\\"quote_count\\\\\":193,\\\\\"reply_count\\\\\":24,\\\\\"retweet_count\\\\\":2151,\\\\\"favorite_count\\\\\":6026,\\\\\"entities\\\\\":{\\\\\"hashtags\\\\\":[],\\\\\"urls\\\\\":[],\\\\\"user_mentions\\\\\":[],\\\\\"symbols\\\\\":[],\\\\\"media\\\\\":[{\\\\\"id\\\\\":1369000437014274053,\\\\\"id_str\\\\\":\\\\\"1369000437014274053\\\\\",\\\\\"indices\\\\\":[75,98],\\\\\"media_url\\\\\":\\\\\"http:\\\\\\\\/\\\\\\\\/pbs.twimg.com\\\\\\\\/media\\\\\\\\/Ev-qpOmXIAUP8uD.png\\\\\",\\\\\"media_url_https\\\\\":\\\\\"https:\\\\\\\\/\\\\\\\\/pbs.twimg.com\\\\\\\\/media\\\\\\\\/Ev-qpOmXIAUP8uD.png\\\\\",\\\\\"url\\\\\":\\\\\"https:\\\\\\\\/\\\\\\\\/t.co\\\\\\\\/VczS4u5ka8\\\\\",\\\\\"display_url\\\\\":\\\\\"pic.twitter.com\\\\\\\\/VczS4u5ka8\\\\\",\\\\\"expanded_url\\\\\":\\\\\"https:\\\\\\\\/\\\\\\\\/twitter.com\\\\\\\\/croketys\\\\\\\\/status\\\\\\\\/1369000535161008135\\\\\\\\/photo\\\\\\\\/1\\\\\",\\\\\"type\\\\\":\\\\\"photo\\\\\",\\\\\"sizes\\\\\":{\\\\\"large\\\\\":{\\\\\"w\\\\\":540,\\\\\"h\\\\\":540,\\\\\"resize\\\\\":\\\\\"fit\\\\\"},\\\\\"small\\\\\":{\\\\\"w\\\\\":540,\\\\\"h\\\\\":540,\\\\\"resize\\\\\":\\\\\"fit\\\\\"},\\\\\"medium\\\\\":{\\\\\"w\\\\\":540,\\\\\"h\\\\\":540,\\\\\"resize\\\\\":\\\\\"fit\\\\\"},\\\\\"thumb\\\\\":{\\\\\"w\\\\\":150,\\\\\"h\\\\\":150,\\\\\"resize\\\\\":\\\\\"crop\\\\\"}}}]},\\\\\"extended_entities\\\\\":{\\\\\"media\\\\\":[{\\\\\"id\\\\\":1369000437014274053,\\\\\"id_str\\\\\":\\\\\"1369000437014274053\\\\\",\\\\\"indices\\\\\":[75,98],\\\\\"media_url\\\\\":\\\\\"http:\\\\\\\\/\\\\\\\\/pbs.twimg.com\\\\\\\\/media\\\\\\\\/Ev-qpOmXIAUP8uD.png\\\\\",\\\\\"media_url_https\\\\\":\\\\\"https:\\\\\\\\/\\\\\\\\/pbs.twimg.com\\\\\\\\/media\\\\\\\\/Ev-qpOmXIAUP8uD.png\\\\\",\\\\\"url\\\\\":\\\\\"https:\\\\\\\\/\\\\\\\\/t.co\\\\\\\\/VczS4u5ka8\\\\\",\\\\\"display_url\\\\\":\\\\\"pic.twitter.com\\\\\\\\/VczS4u5ka8\\\\\",\\\\\"expanded_url\\\\\":\\\\\"https:\\\\\\\\/\\\\\\\\/twitter.com\\\\\\\\/croketys\\\\\\\\/status\\\\\\\\/1369000535161008135\\\\\\\\/photo\\\\\\\\/1\\\\\",\\\\\"type\\\\\":\\\\\"photo\\\\\",\\\\\"sizes\\\\\":{\\\\\"large\\\\\":{\\\\\"w\\\\\":540,\\\\\"h\\\\\":540,\\\\\"resize\\\\\":\\\\\"fit\\\\\"},\\\\\"small\\\\\":{\\\\\"w\\\\\":540,\\\\\"h\\\\\":540,\\\\\"resize\\\\\":\\\\\"fit\\\\\"},\\\\\"medium\\\\\":{\\\\\"w\\\\\":540,\\\\\"h\\\\\":540,\\\\\"resize\\\\\":\\\\\"fit\\\\\"},\\\\\"thumb\\\\\":{\\\\\"w\\\\\":150,\\\\\"h\\\\\":150,\\\\\"resize\\\\\":\\\\\"crop\\\\\"}}}]},\\\\\"favorited\\\\\":false,\\\\\"retweeted\\\\\":false,\\\\\"possibly_sensitive\\\\\":false,\\\\\"filter_level\\\\\":\\\\\"low\\\\\",\\\\\"lang\\\\\":\\\\\"pt\\\\\"},\\\\\"is_quote_status\\\\\":false,\\\\\"quote_count\\\\\":0,\\\\\"reply_count\\\\\":0,\\\\\"retweet_count\\\\\":0,\\\\\"favorite_count\\\\\":0,\\\\\"entities\\\\\":{\\\\\"hashtags\\\\\":[],\\\\\"urls\\\\\":[],\\\\\"user_mentions\\\\\":[{\\\\\"screen_name\\\\\":\\\\\"croketys\\\\\",\\\\\"name\\\\\":\\\\\"peixe bola eu\\\\\",\\\\\"id\\\\\":1015748053494624256,\\\\\"id_str\\\\\":\\\\\"1015748053494624256\\\\\",\\\\\"indices\\\\\":[3,12]}],\\\\\"symbols\\\\\":[],\\\\\"media\\\\\":[{\\\\\"id\\\\\":1369000437014274053,\\\\\"id_str\\\\\":\\\\\"1369000437014274053\\\\\",\\\\\"indices\\\\\":[89,112],\\\\\"media_url\\\\\":\\\\\"http:\\\\\\\\/\\\\\\\\/pbs.twimg.com\\\\\\\\/media\\\\\\\\/Ev-qpOmXIAUP8uD.png\\\\\",\\\\\"media_url_https\\\\\":\\\\\"https:\\\\\\\\/\\\\\\\\/pbs.twimg.com\\\\\\\\/media\\\\\\\\/Ev-qpOmXIAUP8uD.png\\\\\",\\\\\"url\\\\\":\\\\\"https:\\\\\\\\/\\\\\\\\/t.co\\\\\\\\/VczS4u5ka8\\\\\",\\\\\"display_url\\\\\":\\\\\"pic.twitter.com\\\\\\\\/VczS4u5ka8\\\\\",\\\\\"expanded_url\\\\\":\\\\\"https:\\\\\\\\/\\\\\\\\/twitter.com\\\\\\\\/croketys\\\\\\\\/status\\\\\\\\/1369000535161008135\\\\\\\\/photo\\\\\\\\/1\\\\\",\\\\\"type\\\\\":\\\\\"photo\\\\\",\\\\\"sizes\\\\\":{\\\\\"large\\\\\":{\\\\\"w\\\\\":540,\\\\\"h\\\\\":540,\\\\\"resize\\\\\":\\\\\"fit\\\\\"},\\\\\"small\\\\\":{\\\\\"w\\\\\":540,\\\\\"h\\\\\":540,\\\\\"resize\\\\\":\\\\\"fit\\\\\"},\\\\\"medium\\\\\":{\\\\\"w\\\\\":540,\\\\\"h\\\\\":540,\\\\\"resize\\\\\":\\\\\"fit\\\\\"},\\\\\"thumb\\\\\":{\\\\\"w\\\\\":150,\\\\\"h\\\\\":150,\\\\\"resize\\\\\":\\\\\"crop\\\\\"}},\\\\\"source_status_id\\\\\":1369000535161008135,\\\\\"source_status_id_str\\\\\":\\\\\"1369000535161008135\\\\\",\\\\\"source_user_id\\\\\":1015748053494624256,\\\\\"source_user_id_str\\\\\":\\\\\"1015748053494624256\\\\\"}]},\\\\\"extended_entities\\\\\":{\\\\\"media\\\\\":[{\\\\\"id\\\\\":1369000437014274053,\\\\\"id_str\\\\\":\\\\\"1369000437014274053\\\\\",\\\\\"indices\\\\\":[89,112],\\\\\"media_url\\\\\":\\\\\"http:\\\\\\\\/\\\\\\\\/pbs.twimg.com\\\\\\\\/media\\\\\\\\/Ev-qpOmXIAUP8uD.png\\\\\",\\\\\"media_url_https\\\\\":\\\\\"https:\\\\\\\\/\\\\\\\\/pbs.twimg.com\\\\\\\\/media\\\\\\\\/Ev-qpOmXIAUP8uD.png\\\\\",\\\\\"url\\\\\":\\\\\"https:\\\\\\\\/\\\\\\\\/t.co\\\\\\\\/VczS4u5ka8\\\\\",\\\\\"display_url\\\\\":\\\\\"pic.twitter.com\\\\\\\\/VczS4u5ka8\\\\\",\\\\\"expanded_url\\\\\":\\\\\"https:\\\\\\\\/\\\\\\\\/twitter.com\\\\\\\\/croketys\\\\\\\\/status\\\\\\\\/1369000535161008135\\\\\\\\/photo\\\\\\\\/1\\\\\",\\\\\"type\\\\\":\\\\\"photo\\\\\",\\\\\"sizes\\\\\":{\\\\\"large\\\\\":{\\\\\"w\\\\\":540,\\\\\"h\\\\\":540,\\\\\"resize\\\\\":\\\\\"fit\\\\\"},\\\\\"small\\\\\":{\\\\\"w\\\\\":540,\\\\\"h\\\\\":540,\\\\\"resize\\\\\":\\\\\"fit\\\\\"},\\\\\"medium\\\\\":{\\\\\"w\\\\\":540,\\\\\"h\\\\\":540,\\\\\"resize\\\\\":\\\\\"fit\\\\\"},\\\\\"thumb\\\\\":{\\\\\"w\\\\\":150,\\\\\"h\\\\\":150,\\\\\"resize\\\\\":\\\\\"crop\\\\\"}},\\\\\"source_status_id\\\\\":1369000535161008135,\\\\\"source_status_id_str\\\\\":\\\\\"1369000535161008135\\\\\",\\\\\"source_user_id\\\\\":1015748053494624256,\\\\\"source_user_id_str\\\\\":\\\\\"1015748053494624256\\\\\"}]},\\\\\"favorited\\\\\":false,\\\\\"retweeted\\\\\":false,\\\\\"possibly_sensitive\\\\\":false,\\\\\"filter_level\\\\\":\\\\\"low\\\\\",\\\\\"lang\\\\\":\\\\\"pt\\\\\",\\\\\"timestamp_ms\\\\\":\\\\\"1615301349012\\\\\"}\\\\r\\\\n\"\\n'"
      ]
     },
     "execution_count": 6,
     "metadata": {},
     "output_type": "execute_result"
    }
   ],
   "source": [
    "tweets[0]"
   ]
  },
  {
   "cell_type": "code",
   "execution_count": 21,
   "metadata": {},
   "outputs": [],
   "source": [
    "# fazeno o parse do tweet para o json e exporta aquivo\n",
    "with open('tweet.json','w') as f1:\n",
    "    json.dump(\n",
    "        json.loads(json.loads(tweets[0])),f1\n",
    "    )"
   ]
  },
  {
   "cell_type": "code",
   "execution_count": 22,
   "metadata": {},
   "outputs": [
    {
     "data": {
      "text/plain": [
       "dict"
      ]
     },
     "execution_count": 22,
     "metadata": {},
     "output_type": "execute_result"
    }
   ],
   "source": [
    "type(\n",
    "    json.loads(json.loads(tweets[0]))\n",
    "    )"
   ]
  },
  {
   "cell_type": "code",
   "execution_count": 24,
   "metadata": {},
   "outputs": [
    {
     "data": {
      "text/plain": [
       "[0, 1, 2, 3, 4, 5, 6, 7, 8, 9]"
      ]
     },
     "execution_count": 24,
     "metadata": {},
     "output_type": "execute_result"
    }
   ],
   "source": [
    "[i for i in  range(10)]"
   ]
  },
  {
   "cell_type": "code",
   "execution_count": 25,
   "metadata": {},
   "outputs": [],
   "source": [
    "parse_tweets = [json.loads(json.loads(i)) for i in tweets]"
   ]
  },
  {
   "cell_type": "code",
   "execution_count": 27,
   "metadata": {
    "scrolled": true
   },
   "outputs": [
    {
     "data": {
      "text/plain": [
       "{'created_at': 'Tue Mar 09 14:49:09 +0000 2021',\n",
       " 'id': 1369299219824185345,\n",
       " 'id_str': '1369299219824185345',\n",
       " 'text': 'RT @croketys: eu: não mas eu não sou petista\\n\\n*lula inocentado e elegível pra 2022*\\n\\neu: https://t.co/VczS4u5ka8',\n",
       " 'source': '<a href=\"http://twitter.com/download/iphone\" rel=\"nofollow\">Twitter for iPhone</a>',\n",
       " 'truncated': False,\n",
       " 'in_reply_to_status_id': None,\n",
       " 'in_reply_to_status_id_str': None,\n",
       " 'in_reply_to_user_id': None,\n",
       " 'in_reply_to_user_id_str': None,\n",
       " 'in_reply_to_screen_name': None,\n",
       " 'user': {'id': 1402997707,\n",
       "  'id_str': '1402997707',\n",
       "  'name': 'boca a boca',\n",
       "  'screen_name': 'beatrizz_custod',\n",
       "  'location': None,\n",
       "  'url': 'https://curiouscat.me/Beatrizcstd',\n",
       "  'description': '.',\n",
       "  'translator_type': 'none',\n",
       "  'protected': False,\n",
       "  'verified': False,\n",
       "  'followers_count': 502,\n",
       "  'friends_count': 287,\n",
       "  'listed_count': 0,\n",
       "  'favourites_count': 66036,\n",
       "  'statuses_count': 38570,\n",
       "  'created_at': 'Sat May 04 17:54:58 +0000 2013',\n",
       "  'utc_offset': None,\n",
       "  'time_zone': None,\n",
       "  'geo_enabled': False,\n",
       "  'lang': None,\n",
       "  'contributors_enabled': False,\n",
       "  'is_translator': False,\n",
       "  'profile_background_color': 'C0DEED',\n",
       "  'profile_background_image_url': 'http://abs.twimg.com/images/themes/theme1/bg.png',\n",
       "  'profile_background_image_url_https': 'https://abs.twimg.com/images/themes/theme1/bg.png',\n",
       "  'profile_background_tile': False,\n",
       "  'profile_link_color': '1DA1F2',\n",
       "  'profile_sidebar_border_color': 'C0DEED',\n",
       "  'profile_sidebar_fill_color': 'DDEEF6',\n",
       "  'profile_text_color': '333333',\n",
       "  'profile_use_background_image': True,\n",
       "  'profile_image_url': 'http://pbs.twimg.com/profile_images/1369221567910191106/EZkhKCbK_normal.jpg',\n",
       "  'profile_image_url_https': 'https://pbs.twimg.com/profile_images/1369221567910191106/EZkhKCbK_normal.jpg',\n",
       "  'profile_banner_url': 'https://pbs.twimg.com/profile_banners/1402997707/1605861358',\n",
       "  'default_profile': True,\n",
       "  'default_profile_image': False,\n",
       "  'following': None,\n",
       "  'follow_request_sent': None,\n",
       "  'notifications': None},\n",
       " 'geo': None,\n",
       " 'coordinates': None,\n",
       " 'place': None,\n",
       " 'contributors': None,\n",
       " 'retweeted_status': {'created_at': 'Mon Mar 08 19:02:17 +0000 2021',\n",
       "  'id': 1369000535161008135,\n",
       "  'id_str': '1369000535161008135',\n",
       "  'text': 'eu: não mas eu não sou petista\\n\\n*lula inocentado e elegível pra 2022*\\n\\neu: https://t.co/VczS4u5ka8',\n",
       "  'display_text_range': [0, 74],\n",
       "  'source': '<a href=\"https://mobile.twitter.com\" rel=\"nofollow\">Twitter Web App</a>',\n",
       "  'truncated': False,\n",
       "  'in_reply_to_status_id': None,\n",
       "  'in_reply_to_status_id_str': None,\n",
       "  'in_reply_to_user_id': None,\n",
       "  'in_reply_to_user_id_str': None,\n",
       "  'in_reply_to_screen_name': None,\n",
       "  'user': {'id': 1015748053494624256,\n",
       "   'id_str': '1015748053494624256',\n",
       "   'name': 'peixe bola eu',\n",
       "   'screen_name': 'croketys',\n",
       "   'location': 'Aracaju, Brasil',\n",
       "   'url': 'https://instagram.com/ketydias',\n",
       "   'description': 'entusiasta de café da manhã.',\n",
       "   'translator_type': 'none',\n",
       "   'protected': False,\n",
       "   'verified': False,\n",
       "   'followers_count': 595,\n",
       "   'friends_count': 576,\n",
       "   'listed_count': 0,\n",
       "   'favourites_count': 28182,\n",
       "   'statuses_count': 11702,\n",
       "   'created_at': 'Sun Jul 08 00:03:02 +0000 2018',\n",
       "   'utc_offset': None,\n",
       "   'time_zone': None,\n",
       "   'geo_enabled': True,\n",
       "   'lang': None,\n",
       "   'contributors_enabled': False,\n",
       "   'is_translator': False,\n",
       "   'profile_background_color': '000000',\n",
       "   'profile_background_image_url': 'http://abs.twimg.com/images/themes/theme1/bg.png',\n",
       "   'profile_background_image_url_https': 'https://abs.twimg.com/images/themes/theme1/bg.png',\n",
       "   'profile_background_tile': False,\n",
       "   'profile_link_color': 'F58EA8',\n",
       "   'profile_sidebar_border_color': '000000',\n",
       "   'profile_sidebar_fill_color': '000000',\n",
       "   'profile_text_color': '000000',\n",
       "   'profile_use_background_image': False,\n",
       "   'profile_image_url': 'http://pbs.twimg.com/profile_images/1337964196634505217/xNWO8rGO_normal.jpg',\n",
       "   'profile_image_url_https': 'https://pbs.twimg.com/profile_images/1337964196634505217/xNWO8rGO_normal.jpg',\n",
       "   'profile_banner_url': 'https://pbs.twimg.com/profile_banners/1015748053494624256/1570538412',\n",
       "   'default_profile': False,\n",
       "   'default_profile_image': False,\n",
       "   'following': None,\n",
       "   'follow_request_sent': None,\n",
       "   'notifications': None},\n",
       "  'geo': None,\n",
       "  'coordinates': None,\n",
       "  'place': None,\n",
       "  'contributors': None,\n",
       "  'is_quote_status': False,\n",
       "  'quote_count': 193,\n",
       "  'reply_count': 24,\n",
       "  'retweet_count': 2151,\n",
       "  'favorite_count': 6026,\n",
       "  'entities': {'hashtags': [],\n",
       "   'urls': [],\n",
       "   'user_mentions': [],\n",
       "   'symbols': [],\n",
       "   'media': [{'id': 1369000437014274053,\n",
       "     'id_str': '1369000437014274053',\n",
       "     'indices': [75, 98],\n",
       "     'media_url': 'http://pbs.twimg.com/media/Ev-qpOmXIAUP8uD.png',\n",
       "     'media_url_https': 'https://pbs.twimg.com/media/Ev-qpOmXIAUP8uD.png',\n",
       "     'url': 'https://t.co/VczS4u5ka8',\n",
       "     'display_url': 'pic.twitter.com/VczS4u5ka8',\n",
       "     'expanded_url': 'https://twitter.com/croketys/status/1369000535161008135/photo/1',\n",
       "     'type': 'photo',\n",
       "     'sizes': {'large': {'w': 540, 'h': 540, 'resize': 'fit'},\n",
       "      'small': {'w': 540, 'h': 540, 'resize': 'fit'},\n",
       "      'medium': {'w': 540, 'h': 540, 'resize': 'fit'},\n",
       "      'thumb': {'w': 150, 'h': 150, 'resize': 'crop'}}}]},\n",
       "  'extended_entities': {'media': [{'id': 1369000437014274053,\n",
       "     'id_str': '1369000437014274053',\n",
       "     'indices': [75, 98],\n",
       "     'media_url': 'http://pbs.twimg.com/media/Ev-qpOmXIAUP8uD.png',\n",
       "     'media_url_https': 'https://pbs.twimg.com/media/Ev-qpOmXIAUP8uD.png',\n",
       "     'url': 'https://t.co/VczS4u5ka8',\n",
       "     'display_url': 'pic.twitter.com/VczS4u5ka8',\n",
       "     'expanded_url': 'https://twitter.com/croketys/status/1369000535161008135/photo/1',\n",
       "     'type': 'photo',\n",
       "     'sizes': {'large': {'w': 540, 'h': 540, 'resize': 'fit'},\n",
       "      'small': {'w': 540, 'h': 540, 'resize': 'fit'},\n",
       "      'medium': {'w': 540, 'h': 540, 'resize': 'fit'},\n",
       "      'thumb': {'w': 150, 'h': 150, 'resize': 'crop'}}}]},\n",
       "  'favorited': False,\n",
       "  'retweeted': False,\n",
       "  'possibly_sensitive': False,\n",
       "  'filter_level': 'low',\n",
       "  'lang': 'pt'},\n",
       " 'is_quote_status': False,\n",
       " 'quote_count': 0,\n",
       " 'reply_count': 0,\n",
       " 'retweet_count': 0,\n",
       " 'favorite_count': 0,\n",
       " 'entities': {'hashtags': [],\n",
       "  'urls': [],\n",
       "  'user_mentions': [{'screen_name': 'croketys',\n",
       "    'name': 'peixe bola eu',\n",
       "    'id': 1015748053494624256,\n",
       "    'id_str': '1015748053494624256',\n",
       "    'indices': [3, 12]}],\n",
       "  'symbols': [],\n",
       "  'media': [{'id': 1369000437014274053,\n",
       "    'id_str': '1369000437014274053',\n",
       "    'indices': [89, 112],\n",
       "    'media_url': 'http://pbs.twimg.com/media/Ev-qpOmXIAUP8uD.png',\n",
       "    'media_url_https': 'https://pbs.twimg.com/media/Ev-qpOmXIAUP8uD.png',\n",
       "    'url': 'https://t.co/VczS4u5ka8',\n",
       "    'display_url': 'pic.twitter.com/VczS4u5ka8',\n",
       "    'expanded_url': 'https://twitter.com/croketys/status/1369000535161008135/photo/1',\n",
       "    'type': 'photo',\n",
       "    'sizes': {'large': {'w': 540, 'h': 540, 'resize': 'fit'},\n",
       "     'small': {'w': 540, 'h': 540, 'resize': 'fit'},\n",
       "     'medium': {'w': 540, 'h': 540, 'resize': 'fit'},\n",
       "     'thumb': {'w': 150, 'h': 150, 'resize': 'crop'}},\n",
       "    'source_status_id': 1369000535161008135,\n",
       "    'source_status_id_str': '1369000535161008135',\n",
       "    'source_user_id': 1015748053494624256,\n",
       "    'source_user_id_str': '1015748053494624256'}]},\n",
       " 'extended_entities': {'media': [{'id': 1369000437014274053,\n",
       "    'id_str': '1369000437014274053',\n",
       "    'indices': [89, 112],\n",
       "    'media_url': 'http://pbs.twimg.com/media/Ev-qpOmXIAUP8uD.png',\n",
       "    'media_url_https': 'https://pbs.twimg.com/media/Ev-qpOmXIAUP8uD.png',\n",
       "    'url': 'https://t.co/VczS4u5ka8',\n",
       "    'display_url': 'pic.twitter.com/VczS4u5ka8',\n",
       "    'expanded_url': 'https://twitter.com/croketys/status/1369000535161008135/photo/1',\n",
       "    'type': 'photo',\n",
       "    'sizes': {'large': {'w': 540, 'h': 540, 'resize': 'fit'},\n",
       "     'small': {'w': 540, 'h': 540, 'resize': 'fit'},\n",
       "     'medium': {'w': 540, 'h': 540, 'resize': 'fit'},\n",
       "     'thumb': {'w': 150, 'h': 150, 'resize': 'crop'}},\n",
       "    'source_status_id': 1369000535161008135,\n",
       "    'source_status_id_str': '1369000535161008135',\n",
       "    'source_user_id': 1015748053494624256,\n",
       "    'source_user_id_str': '1015748053494624256'}]},\n",
       " 'favorited': False,\n",
       " 'retweeted': False,\n",
       " 'possibly_sensitive': False,\n",
       " 'filter_level': 'low',\n",
       " 'lang': 'pt',\n",
       " 'timestamp_ms': '1615301349012'}"
      ]
     },
     "execution_count": 27,
     "metadata": {},
     "output_type": "execute_result"
    }
   ],
   "source": [
    "parse_tweets[0]"
   ]
  },
  {
   "cell_type": "code",
   "execution_count": 29,
   "metadata": {},
   "outputs": [
    {
     "data": {
      "text/plain": [
       "409"
      ]
     },
     "execution_count": 29,
     "metadata": {},
     "output_type": "execute_result"
    }
   ],
   "source": [
    "#quantida de tweets\n",
    "len(parse_tweets)"
   ]
  },
  {
   "cell_type": "markdown",
   "metadata": {},
   "source": [
    "# Acessando as chaves do dicionario"
   ]
  },
  {
   "cell_type": "code",
   "execution_count": 33,
   "metadata": {},
   "outputs": [
    {
     "data": {
      "text/plain": [
       "dict_keys(['created_at', 'id', 'id_str', 'text', 'source', 'truncated', 'in_reply_to_status_id', 'in_reply_to_status_id_str', 'in_reply_to_user_id', 'in_reply_to_user_id_str', 'in_reply_to_screen_name', 'user', 'geo', 'coordinates', 'place', 'contributors', 'retweeted_status', 'is_quote_status', 'quote_count', 'reply_count', 'retweet_count', 'favorite_count', 'entities', 'extended_entities', 'favorited', 'retweeted', 'possibly_sensitive', 'filter_level', 'lang', 'timestamp_ms'])"
      ]
     },
     "execution_count": 33,
     "metadata": {},
     "output_type": "execute_result"
    }
   ],
   "source": [
    "parse_tweets[0].keys()"
   ]
  },
  {
   "cell_type": "code",
   "execution_count": 35,
   "metadata": {},
   "outputs": [],
   "source": [
    "primeiro = parse_tweets[0]"
   ]
  },
  {
   "cell_type": "code",
   "execution_count": 36,
   "metadata": {},
   "outputs": [
    {
     "data": {
      "text/plain": [
       "dict_keys(['created_at', 'id', 'id_str', 'text', 'source', 'truncated', 'in_reply_to_status_id', 'in_reply_to_status_id_str', 'in_reply_to_user_id', 'in_reply_to_user_id_str', 'in_reply_to_screen_name', 'user', 'geo', 'coordinates', 'place', 'contributors', 'retweeted_status', 'is_quote_status', 'quote_count', 'reply_count', 'retweet_count', 'favorite_count', 'entities', 'extended_entities', 'favorited', 'retweeted', 'possibly_sensitive', 'filter_level', 'lang', 'timestamp_ms'])"
      ]
     },
     "execution_count": 36,
     "metadata": {},
     "output_type": "execute_result"
    }
   ],
   "source": [
    "primeiro.keys()"
   ]
  },
  {
   "cell_type": "code",
   "execution_count": 39,
   "metadata": {},
   "outputs": [
    {
     "data": {
      "text/plain": [
       "'RT @croketys: eu: não mas eu não sou petista\\n\\n*lula inocentado e elegível pra 2022*\\n\\neu: https://t.co/VczS4u5ka8'"
      ]
     },
     "execution_count": 39,
     "metadata": {},
     "output_type": "execute_result"
    }
   ],
   "source": [
    "#Acessa a mensagem \n",
    "primeiro['text']"
   ]
  },
  {
   "cell_type": "code",
   "execution_count": null,
   "metadata": {},
   "outputs": [],
   "source": []
  }
 ],
 "metadata": {
  "kernelspec": {
   "display_name": "Python 3",
   "language": "python",
   "name": "python3"
  },
  "language_info": {
   "codemirror_mode": {
    "name": "ipython",
    "version": 3
   },
   "file_extension": ".py",
   "mimetype": "text/x-python",
   "name": "python",
   "nbconvert_exporter": "python",
   "pygments_lexer": "ipython3",
   "version": "3.8.5"
  }
 },
 "nbformat": 4,
 "nbformat_minor": 4
}
